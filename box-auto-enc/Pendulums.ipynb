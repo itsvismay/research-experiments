{
 "cells": [
  {
   "cell_type": "code",
   "execution_count": 47,
   "metadata": {},
   "outputs": [
    {
     "name": "stdout",
     "output_type": "stream",
     "text": [
      "Passed.\n"
     ]
    }
   ],
   "source": [
    "import pendulums as pd\n",
    "import matplotlib.pyplot as plt\n",
    "\n",
    "pd.tests()"
   ]
  },
  {
   "cell_type": "code",
   "execution_count": 70,
   "metadata": {
    "scrolled": true
   },
   "outputs": [
    {
     "name": "stdout",
     "output_type": "stream",
     "text": [
      "Generating\n",
      "plotting\n"
     ]
    },
    {
     "data": {
      "image/png": "[encoded data removed]",
      "text/plain": [
       "<matplotlib.figure.Figure at 0x7f899b85fba8>"
      ]
     },
     "metadata": {},
     "output_type": "display_data"
    }
   ],
   "source": [
    "print(\"Generating\")\n",
    "samples = pd.generate_samples(5)\n",
    "# print(samples)\n",
    "# print([pd.pendulum_from_vec(s) for s in samples])\n",
    "x_bounds = [-10, 10]\n",
    "y_bounds = [-10, 10]\n",
    "fig = plt.figure(figsize=(8, 8))\n",
    "ax = fig.add_subplot(111)\n",
    "ax.set_xlim(x_bounds)\n",
    "ax.set_ylim(y_bounds)\n",
    "ax.set_aspect('equal')\n",
    "\n",
    "print(\"plotting\")\n",
    "pd.draw_from_samples(ax, samples)\n",
    "plt.show()"
   ]
  },
  {
   "cell_type": "code",
   "execution_count": null,
   "metadata": {},
   "outputs": [
    {
     "name": "stdout",
     "output_type": "stream",
     "text": [
      "Generating training data...\n",
      "Done. Runtime:  1.9355289936065674\n",
      "Train on 5000000 samples, validate on 100 samples\n",
      "Epoch 1/300\n",
      "5000000/5000000 [==============================] - 13s - loss: 0.0120 - val_loss: 0.0017\n",
      "Epoch 2/300\n",
      "5000000/5000000 [==============================] - 11s - loss: 0.0016 - val_loss: 0.0016\n",
      "Epoch 3/300\n",
      "5000000/5000000 [==============================] - 11s - loss: 0.0015 - val_loss: 0.0016\n",
      "Epoch 4/300\n",
      "5000000/5000000 [==============================] - 12s - loss: 0.0011 - val_loss: 0.0010\n",
      "Epoch 5/300\n",
      "5000000/5000000 [==============================] - 12s - loss: 8.0982e-04 - val_loss: 7.1852e-04\n",
      "Epoch 6/300\n",
      "5000000/5000000 [==============================] - 12s - loss: 5.7090e-04 - val_loss: 4.8362e-04\n",
      "Epoch 7/300\n",
      "5000000/5000000 [==============================] - 12s - loss: 4.4096e-04 - val_loss: 4.3884e-04\n",
      "Epoch 8/300\n",
      "5000000/5000000 [==============================] - 12s - loss: 3.3998e-04 - val_loss: 1.7575e-04\n",
      "Epoch 9/300\n",
      "5000000/5000000 [==============================] - 12s - loss: 2.7328e-04 - val_loss: 2.2524e-04\n",
      "Epoch 10/300\n",
      "5000000/5000000 [==============================] - 12s - loss: 2.3716e-04 - val_loss: 1.9363e-04\n",
      "Epoch 11/300\n",
      "1302528/5000000 [======>.......................] - ETA: 8s - loss: 2.3425e-04"
     ]
    }
   ],
   "source": [
    "from pendulum_learn import *\n",
    "main()"
   ]
  },
  {
   "cell_type": "code",
   "execution_count": null,
   "metadata": {
    "collapsed": true
   },
   "outputs": [],
   "source": []
  }
 ],
 "metadata": {
  "kernelspec": {
   "display_name": "Python 3",
   "language": "python",
   "name": "python3"
  },
  "language_info": {
   "codemirror_mode": {
    "name": "ipython",
    "version": 3
   },
   "file_extension": ".py",
   "mimetype": "text/x-python",
   "name": "python",
   "nbconvert_exporter": "python",
   "pygments_lexer": "ipython3",
   "version": "3.6.2"
  }
 },
 "nbformat": 4,
 "nbformat_minor": 2
}
