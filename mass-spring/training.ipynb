{
 "cells": [
  {
   "cell_type": "code",
   "execution_count": 1,
   "metadata": {},
   "outputs": [
    {
     "name": "stderr",
     "output_type": "stream",
     "text": [
      "Using TensorFlow backend.\n"
     ]
    }
   ],
   "source": [
    "from learning import *"
   ]
  },
  {
   "cell_type": "code",
   "execution_count": 5,
   "metadata": {},
   "outputs": [
    {
     "name": "stdout",
     "output_type": "stream",
     "text": [
      "Loading training data...\n",
      "Done loading:  0.25266122817993164\n",
      "Train on 10000 samples, validate on 1000 samples\n",
      "Epoch 1/20\n",
      "10000/10000 [==============================] - 0s - loss: 0.0502 - val_loss: 0.0016\n",
      "Epoch 2/20\n",
      "10000/10000 [==============================] - 0s - loss: 8.8957e-04 - val_loss: 6.9988e-04\n",
      "Epoch 3/20\n",
      "10000/10000 [==============================] - 0s - loss: 6.4426e-04 - val_loss: 6.6970e-04\n",
      "Epoch 4/20\n",
      "10000/10000 [==============================] - 0s - loss: 6.3709e-04 - val_loss: 6.6879e-04\n",
      "Epoch 5/20\n",
      "10000/10000 [==============================] - 0s - loss: 6.3335e-04 - val_loss: 6.6349e-04\n",
      "Epoch 6/20\n",
      "10000/10000 [==============================] - 0s - loss: 6.3119e-04 - val_loss: 6.5944e-04\n",
      "Epoch 7/20\n",
      "10000/10000 [==============================] - 0s - loss: 6.2581e-04 - val_loss: 6.5403e-04\n",
      "Epoch 8/20\n",
      "10000/10000 [==============================] - 0s - loss: 6.2101e-04 - val_loss: 6.4939e-04\n",
      "Epoch 9/20\n",
      "10000/10000 [==============================] - 0s - loss: 6.1650e-04 - val_loss: 6.4464e-04\n",
      "Epoch 10/20\n",
      "10000/10000 [==============================] - 0s - loss: 6.1110e-04 - val_loss: 6.3586e-04\n",
      "Epoch 11/20\n",
      "10000/10000 [==============================] - 0s - loss: 6.0268e-04 - val_loss: 6.2688e-04\n",
      "Epoch 12/20\n",
      "10000/10000 [==============================] - 0s - loss: 5.9157e-04 - val_loss: 6.1325e-04\n",
      "Epoch 13/20\n",
      "10000/10000 [==============================] - 0s - loss: 5.7635e-04 - val_loss: 5.9316e-04\n",
      "Epoch 14/20\n",
      "10000/10000 [==============================] - 0s - loss: 5.5092e-04 - val_loss: 5.5879e-04\n",
      "Epoch 15/20\n",
      "10000/10000 [==============================] - 0s - loss: 5.0574e-04 - val_loss: 4.9376e-04\n",
      "Epoch 16/20\n",
      "10000/10000 [==============================] - 0s - loss: 4.2229e-04 - val_loss: 3.7454e-04\n",
      "Epoch 17/20\n",
      "10000/10000 [==============================] - 0s - loss: 2.7418e-04 - val_loss: 1.8573e-04\n",
      "Epoch 18/20\n",
      "10000/10000 [==============================] - 0s - loss: 9.5671e-05 - val_loss: 3.9127e-05\n",
      "Epoch 19/20\n",
      "10000/10000 [==============================] - 0s - loss: 1.7863e-05 - val_loss: 6.4779e-06\n",
      "Epoch 20/20\n",
      "10000/10000 [==============================] - 0s - loss: 3.9363e-06 - val_loss: 2.6696e-06\n",
      "Total model time:  5.923222541809082\n",
      "Predict took:  0.0702815055847168\n",
      "Total runtime:  6.369282245635986\n"
     ]
    },
    {
     "data": {
      "image/png": "[encoded data removed]",
      "text/plain": [
       "<matplotlib.figure.Figure at 0x7f45d40d52e8>"
      ]
     },
     "metadata": {},
     "output_type": "display_data"
    }
   ],
   "source": [
    "main()"
   ]
  },
  {
   "cell_type": "code",
   "execution_count": null,
   "metadata": {},
   "outputs": [],
   "source": []
  },
  {
   "cell_type": "code",
   "execution_count": null,
   "metadata": {
    "collapsed": true
   },
   "outputs": [],
   "source": []
  }
 ],
 "metadata": {
  "kernelspec": {
   "display_name": "Python 3",
   "language": "python",
   "name": "python3"
  },
  "language_info": {
   "codemirror_mode": {
    "name": "ipython",
    "version": 3
   },
   "file_extension": ".py",
   "mimetype": "text/x-python",
   "name": "python",
   "nbconvert_exporter": "python",
   "pygments_lexer": "ipython3",
   "version": "3.6.2"
  }
 },
 "nbformat": 4,
 "nbformat_minor": 2
}
