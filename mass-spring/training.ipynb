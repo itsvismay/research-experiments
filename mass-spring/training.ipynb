{
 "cells": [
  {
   "cell_type": "code",
   "execution_count": 1,
   "metadata": {},
   "outputs": [
    {
     "name": "stderr",
     "output_type": "stream",
     "text": [
      "Using TensorFlow backend.\n"
     ]
    }
   ],
   "source": [
    "from pca_ae_learn import *"
   ]
  },
  {
   "cell_type": "code",
   "execution_count": 7,
   "metadata": {},
   "outputs": [
    {
     "name": "stdout",
     "output_type": "stream",
     "text": [
      "Loading training data...\n",
      "Done loading:  0.27366185188293457\n",
      "Train on 10000 samples, validate on 1000 samples\n",
      "Epoch 1/20\n",
      "10000/10000 [==============================] - 0s - loss: 0.0218 - val_loss: 6.8026e-04\n",
      "Epoch 2/20\n",
      "10000/10000 [==============================] - 0s - loss: 6.7374e-04 - val_loss: 6.0368e-04\n",
      "Epoch 3/20\n",
      "10000/10000 [==============================] - 0s - loss: 5.9571e-04 - val_loss: 5.3808e-04\n",
      "Epoch 4/20\n",
      "10000/10000 [==============================] - 0s - loss: 4.4900e-04 - val_loss: 2.4854e-04\n",
      "Epoch 5/20\n",
      "10000/10000 [==============================] - 0s - loss: 8.7157e-05 - val_loss: 1.4090e-05\n",
      "Epoch 6/20\n",
      "10000/10000 [==============================] - 0s - loss: 6.4270e-06 - val_loss: 3.6052e-06\n",
      "Epoch 7/20\n",
      "10000/10000 [==============================] - 0s - loss: 3.0667e-06 - val_loss: 2.9613e-06\n",
      "Epoch 8/20\n",
      "10000/10000 [==============================] - 0s - loss: 2.7473e-06 - val_loss: 2.8372e-06\n",
      "Epoch 9/20\n",
      "10000/10000 [==============================] - 0s - loss: 2.6432e-06 - val_loss: 2.7044e-06\n",
      "Epoch 10/20\n",
      "10000/10000 [==============================] - 0s - loss: 2.5339e-06 - val_loss: 2.6087e-06\n",
      "Epoch 11/20\n",
      "10000/10000 [==============================] - 0s - loss: 2.4409e-06 - val_loss: 2.4905e-06\n",
      "Epoch 12/20\n",
      "10000/10000 [==============================] - 0s - loss: 2.3633e-06 - val_loss: 2.4151e-06\n",
      "Epoch 13/20\n",
      "10000/10000 [==============================] - 0s - loss: 2.3015e-06 - val_loss: 2.3991e-06\n",
      "Epoch 14/20\n",
      "10000/10000 [==============================] - 0s - loss: 2.2393e-06 - val_loss: 2.3119e-06\n",
      "Epoch 15/20\n",
      "10000/10000 [==============================] - 0s - loss: 2.1830e-06 - val_loss: 2.2363e-06\n",
      "Epoch 16/20\n",
      "10000/10000 [==============================] - 0s - loss: 2.1172e-06 - val_loss: 2.1974e-06\n",
      "Epoch 17/20\n",
      "10000/10000 [==============================] - 0s - loss: 2.0670e-06 - val_loss: 2.1251e-06\n",
      "Epoch 18/20\n",
      "10000/10000 [==============================] - 0s - loss: 2.0267e-06 - val_loss: 2.0875e-06\n",
      "Epoch 19/20\n",
      "10000/10000 [==============================] - 0s - loss: 1.9598e-06 - val_loss: 2.0229e-06\n",
      "Epoch 20/20\n",
      "10000/10000 [==============================] - 0s - loss: 1.9116e-06 - val_loss: 2.0141e-06\n",
      "Total model time:  7.910912036895752\n",
      "Predict took:  0.160658597946167\n",
      "Total runtime:  8.557516813278198\n"
     ]
    },
    {
     "data": {
      "image/png": "[encoded data removed]",
      "text/plain": [
       "<matplotlib.figure.Figure at 0x7fea32ab7860>"
      ]
     },
     "metadata": {},
     "output_type": "display_data"
    }
   ],
   "source": [
    "main()"
   ]
  },
  {
   "cell_type": "code",
   "execution_count": null,
   "metadata": {
    "collapsed": true
   },
   "outputs": [],
   "source": []
  },
  {
   "cell_type": "code",
   "execution_count": null,
   "metadata": {
    "collapsed": true
   },
   "outputs": [],
   "source": []
  }
 ],
 "metadata": {
  "anaconda-cloud": {},
  "kernelspec": {
   "display_name": "Python 3",
   "language": "python",
   "name": "python3"
  },
  "language_info": {
   "codemirror_mode": {
    "name": "ipython",
    "version": 3
   },
   "file_extension": ".py",
   "mimetype": "text/x-python",
   "name": "python",
   "nbconvert_exporter": "python",
   "pygments_lexer": "ipython3",
   "version": "3.6.2"
  }
 },
 "nbformat": 4,
 "nbformat_minor": 2
}
